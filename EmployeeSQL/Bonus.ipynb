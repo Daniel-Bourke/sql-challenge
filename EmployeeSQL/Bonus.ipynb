{
 "cells": [
  {
   "cell_type": "markdown",
   "id": "682f2ee4",
   "metadata": {},
   "source": [
    "# load in query containing id, department name, sex & salary"
   ]
  },
  {
   "cell_type": "code",
   "execution_count": 1,
   "id": "2d56c401",
   "metadata": {},
   "outputs": [
    {
     "data": {
      "text/html": [
       "<div>\n",
       "<style scoped>\n",
       "    .dataframe tbody tr th:only-of-type {\n",
       "        vertical-align: middle;\n",
       "    }\n",
       "\n",
       "    .dataframe tbody tr th {\n",
       "        vertical-align: top;\n",
       "    }\n",
       "\n",
       "    .dataframe thead th {\n",
       "        text-align: right;\n",
       "    }\n",
       "</style>\n",
       "<table border=\"1\" class=\"dataframe\">\n",
       "  <thead>\n",
       "    <tr style=\"text-align: right;\">\n",
       "      <th></th>\n",
       "      <th>emp_no</th>\n",
       "      <th>dept_name</th>\n",
       "      <th>sex</th>\n",
       "      <th>salary</th>\n",
       "    </tr>\n",
       "  </thead>\n",
       "  <tbody>\n",
       "    <tr>\n",
       "      <th>0</th>\n",
       "      <td>10001</td>\n",
       "      <td>Development</td>\n",
       "      <td>M</td>\n",
       "      <td>60117</td>\n",
       "    </tr>\n",
       "    <tr>\n",
       "      <th>1</th>\n",
       "      <td>10005</td>\n",
       "      <td>Human Resources</td>\n",
       "      <td>M</td>\n",
       "      <td>78228</td>\n",
       "    </tr>\n",
       "  </tbody>\n",
       "</table>\n",
       "</div>"
      ],
      "text/plain": [
       "   emp_no        dept_name sex  salary\n",
       "0   10001      Development   M   60117\n",
       "1   10005  Human Resources   M   78228"
      ]
     },
     "execution_count": 1,
     "metadata": {},
     "output_type": "execute_result"
    }
   ],
   "source": [
    "import matplotlib.pyplot as plt\n",
    "from sqlalchemy import create_engine\n",
    "import pandas as pd \n",
    "import seaborn as sns\n",
    "import warnings\n",
    "warnings.filterwarnings('ignore')\n",
    "username = \"postgres\"\n",
    "password = \"postgres\"\n",
    "server_name = \"localhost\"\n",
    "port = \"5432\"\n",
    "database_name = \"SQL-Challenge\" \n",
    "engine = create_engine(f'postgresql://{username}:{password}@{server_name}:{port}/{database_name}')\n",
    "\n",
    "df = pd.read_sql(\"SELECT e.emp_no, d.dept_name, e.sex,s.salary FROM employees AS e LEFT JOIN dept_emp AS de ON de.emp_no=e.emp_no LEFT JOIN departments AS d ON d.dept_no=de.dept_no LEFT JOIN salaries AS s ON e.emp_no = s.emp_no;\", engine)\n",
    "df.head(2)"
   ]
  },
  {
   "cell_type": "markdown",
   "id": "4f157142",
   "metadata": {},
   "source": [
    "## Histo to break down salaries"
   ]
  },
  {
   "cell_type": "code",
   "execution_count": 2,
   "id": "85d4fbcc",
   "metadata": {},
   "outputs": [
    {
     "data": {
      "image/png": "[encoded data removed]",
      "text/plain": [
       "<Figure size 1080x360 with 1 Axes>"
      ]
     },
     "metadata": {},
     "output_type": "display_data"
    }
   ],
   "source": [
    "sns.set_theme(style=\"whitegrid\")\n",
    "\n",
    "# Initialize the figure Layout\n",
    "fig1, ax1 = plt.subplots(figsize=(15,5))\n",
    "\n",
    "# Plot\n",
    "sns.histplot(data=df[\"salary\"],bins=50)\n",
    "\n",
    "\n",
    "# Title\n",
    "ax1.set_title('Which Salaries were most common?',\n",
    "             fontdict ={\n",
    "                 'fontsize': 20,\n",
    "                 'fontweight' : 'bold'\n",
    "                         })\n",
    "# Axes Titles\n",
    "ax1.set_xlabel(f\"Salary ($)\",size=15,fontweight='bold')\n",
    "ax1.set_ylabel(f\"# of Occurances\",size=15,fontweight='bold')\n",
    "\n",
    "# Ticks\n",
    "xticks1=ax1.get_xticks()\n",
    "ax1.set_xticklabels(['${:,.0f}'.format(x)  for x in xticks1],fontdict={'fontsize':14})\n",
    "yticks1=ax1.get_yticks()\n",
    "ax1.set_yticklabels(['{:,.0f}'.format(y)  for y in yticks1],fontdict={'fontsize':14})\n",
    "\n",
    "#plt.yticks(fontsize=14)\n",
    "\n",
    "plt.show()\n"
   ]
  },
  {
   "cell_type": "markdown",
   "id": "d7fc882c",
   "metadata": {},
   "source": [
    "## spike looks odd, goin in for a closer look"
   ]
  },
  {
   "cell_type": "code",
   "execution_count": 3,
   "id": "9b060a60",
   "metadata": {
    "scrolled": true
   },
   "outputs": [
    {
     "data": {
      "text/plain": [
       "40000     105316\n",
       "44564         21\n",
       "55581         21\n",
       "53078         20\n",
       "45050         20\n",
       "           ...  \n",
       "77677          1\n",
       "78627          1\n",
       "74239          1\n",
       "102327         1\n",
       "87170          1\n",
       "Name: salary, Length: 50355, dtype: int64"
      ]
     },
     "execution_count": 3,
     "metadata": {},
     "output_type": "execute_result"
    }
   ],
   "source": [
    "df[\"salary\"].value_counts()"
   ]
  },
  {
   "cell_type": "code",
   "execution_count": 15,
   "id": "2158c3fd",
   "metadata": {
    "scrolled": true
   },
   "outputs": [
    {
     "name": "stdout",
     "output_type": "stream",
     "text": [
      "32.0% of employees all earned exactly 40k? ...questionable\n"
     ]
    }
   ],
   "source": [
    "no_of_emp=len(df)\n",
    "no_of_40k=len(df.loc[df['salary'] == 40000])\n",
    "print(f'{round(no_of_40k/no_of_emp*100,0)}% of employees all earned exactly 40k? ...questionable')"
   ]
  },
  {
   "cell_type": "markdown",
   "id": "fe8942ca",
   "metadata": {},
   "source": [
    "# Looking for more evidence of the unbelievable"
   ]
  },
  {
   "cell_type": "code",
   "execution_count": 5,
   "id": "cefe4ad4",
   "metadata": {},
   "outputs": [
    {
     "data": {
      "text/html": [
       "<div>\n",
       "<style scoped>\n",
       "    .dataframe tbody tr th:only-of-type {\n",
       "        vertical-align: middle;\n",
       "    }\n",
       "\n",
       "    .dataframe tbody tr th {\n",
       "        vertical-align: top;\n",
       "    }\n",
       "\n",
       "    .dataframe thead th {\n",
       "        text-align: right;\n",
       "    }\n",
       "</style>\n",
       "<table border=\"1\" class=\"dataframe\">\n",
       "  <thead>\n",
       "    <tr style=\"text-align: right;\">\n",
       "      <th></th>\n",
       "      <th>sex</th>\n",
       "      <th>Count</th>\n",
       "      <th>Colours</th>\n",
       "    </tr>\n",
       "  </thead>\n",
       "  <tbody>\n",
       "    <tr>\n",
       "      <th>0</th>\n",
       "      <td>F</td>\n",
       "      <td>132753</td>\n",
       "      <td>#FF1493</td>\n",
       "    </tr>\n",
       "    <tr>\n",
       "      <th>1</th>\n",
       "      <td>M</td>\n",
       "      <td>198850</td>\n",
       "      <td>#3590D0</td>\n",
       "    </tr>\n",
       "  </tbody>\n",
       "</table>\n",
       "</div>"
      ],
      "text/plain": [
       "  sex   Count  Colours\n",
       "0   F  132753  #FF1493\n",
       "1   M  198850  #3590D0"
      ]
     },
     "execution_count": 5,
     "metadata": {},
     "output_type": "execute_result"
    }
   ],
   "source": [
    "Sex_Count_df= df.groupby([\"sex\"]).count().reset_index()\n",
    "Sex_Count_df = Sex_Count_df[[\"sex\",\"emp_no\"]]\n",
    "Sex_Count_df = Sex_Count_df.rename(columns={\"emp_no\": \"Count\"})\n",
    "Sex_Count_df[\"Colours\"]=[\"#FF1493\",\"#3590D0\"]\n",
    "Sex_Count_df"
   ]
  },
  {
   "cell_type": "code",
   "execution_count": 6,
   "id": "b4ad0e9a",
   "metadata": {
    "scrolled": true
   },
   "outputs": [
    {
     "data": {
      "text/html": [
       "<div>\n",
       "<style scoped>\n",
       "    .dataframe tbody tr th:only-of-type {\n",
       "        vertical-align: middle;\n",
       "    }\n",
       "\n",
       "    .dataframe tbody tr th {\n",
       "        vertical-align: top;\n",
       "    }\n",
       "\n",
       "    .dataframe thead th {\n",
       "        text-align: right;\n",
       "    }\n",
       "</style>\n",
       "<table border=\"1\" class=\"dataframe\">\n",
       "  <thead>\n",
       "    <tr style=\"text-align: right;\">\n",
       "      <th></th>\n",
       "      <th>sex</th>\n",
       "      <th>salary</th>\n",
       "      <th>Colours</th>\n",
       "    </tr>\n",
       "  </thead>\n",
       "  <tbody>\n",
       "    <tr>\n",
       "      <th>0</th>\n",
       "      <td>F</td>\n",
       "      <td>52945.151236</td>\n",
       "      <td>#FF1493</td>\n",
       "    </tr>\n",
       "    <tr>\n",
       "      <th>1</th>\n",
       "      <td>M</td>\n",
       "      <td>52990.300267</td>\n",
       "      <td>#3590D0</td>\n",
       "    </tr>\n",
       "  </tbody>\n",
       "</table>\n",
       "</div>"
      ],
      "text/plain": [
       "  sex        salary  Colours\n",
       "0   F  52945.151236  #FF1493\n",
       "1   M  52990.300267  #3590D0"
      ]
     },
     "execution_count": 6,
     "metadata": {},
     "output_type": "execute_result"
    }
   ],
   "source": [
    "Sex_Salary_df=df.groupby(['sex'],as_index=False).salary.mean()\n",
    "Sex_Salary_df[\"Colours\"]=[\"#FF1493\",\"#3590D0\"]\n",
    "Sex_Salary_df"
   ]
  },
  {
   "cell_type": "code",
   "execution_count": 7,
   "id": "629252ef",
   "metadata": {},
   "outputs": [
    {
     "data": {
      "image/png": "[encoded data removed]",
      "text/plain": [
       "<Figure size 1080x360 with 2 Axes>"
      ]
     },
     "metadata": {},
     "output_type": "display_data"
    }
   ],
   "source": [
    "# Initialize the figure Layout\n",
    "fig2, axes = plt.subplots(1,2,figsize=(15,5))\n",
    "ax21 = axes[0]\n",
    "ax22 = axes[1]\n",
    "\n",
    "\n",
    "# Plot 1\n",
    "Sex_Count_df.plot(kind=\"pie\", \n",
    "               y = \"Count\", \n",
    "               autopct='%1.2f%%',\n",
    "             textprops={'fontsize': 20},\n",
    "               legend=False,\n",
    "               startangle=90,\n",
    "               shadow=True, \n",
    "               labels=Sex_Count_df[\"sex\"],\n",
    "               colors = Sex_Count_df[\"Colours\"],\n",
    "               explode = (0.0,0.2),\n",
    "                ax=ax21)\n",
    "\n",
    "\n",
    "# Title\n",
    "ax21.set_title(f\"Gender Count\",\n",
    "             fontdict ={\n",
    "                 'fontsize': 20,\n",
    "                 'fontweight' : 'bold'\n",
    "                         })\n",
    "\n",
    "# Plot 2\n",
    "values = Sex_Salary_df[\"salary\"] \n",
    "labels = Sex_Salary_df[\"sex\"] \n",
    "\n",
    "def make_autopct(values):\n",
    "    def my_autopct(pct):\n",
    "        total = sum(values)\n",
    "        val = int(round(pct*total/100.0))\n",
    "        return '{p:.2f}% \\n (${v:,})'.format(p=pct,v=val)\n",
    "    return my_autopct\n",
    "\n",
    "\n",
    "Sex_Salary_df.plot(kind=\"pie\", \n",
    "               y = \"salary\", \n",
    "               autopct=make_autopct(values),\n",
    "             textprops={'fontsize': 20},\n",
    "               legend=False,\n",
    "               startangle=90,\n",
    "               shadow=True, \n",
    "               labels=Sex_Salary_df[\"sex\"],\n",
    "               colors = Sex_Salary_df[\"Colours\"],\n",
    "               explode = (0.0,0.2),\n",
    "                ax=ax22)\n",
    "\n",
    "\n",
    "# Title\n",
    "ax22.set_title(f\"Avg Salary by Gender\",\n",
    "             fontdict ={\n",
    "                 'fontsize': 20,\n",
    "                 'fontweight' : 'bold'\n",
    "                         })\n",
    "\n",
    "\n",
    "\n",
    "plt.show()\n"
   ]
  },
  {
   "cell_type": "markdown",
   "id": "ebc70dc6",
   "metadata": {},
   "source": [
    "# \"FAKE DATA! \n",
    "## It is highly unlikely that a company like HP in the 80's/90's would have as high as 40% females representation with fair/even average salaries\""
   ]
  },
  {
   "cell_type": "code",
   "execution_count": 8,
   "id": "438551ce",
   "metadata": {},
   "outputs": [
    {
     "data": {
      "text/html": [
       "<div>\n",
       "<style scoped>\n",
       "    .dataframe tbody tr th:only-of-type {\n",
       "        vertical-align: middle;\n",
       "    }\n",
       "\n",
       "    .dataframe tbody tr th {\n",
       "        vertical-align: top;\n",
       "    }\n",
       "\n",
       "    .dataframe thead th {\n",
       "        text-align: right;\n",
       "    }\n",
       "</style>\n",
       "<table border=\"1\" class=\"dataframe\">\n",
       "  <thead>\n",
       "    <tr style=\"text-align: right;\">\n",
       "      <th></th>\n",
       "      <th>emp_no</th>\n",
       "      <th>dept_name</th>\n",
       "      <th>sex</th>\n",
       "      <th>salary</th>\n",
       "    </tr>\n",
       "  </thead>\n",
       "  <tbody>\n",
       "    <tr>\n",
       "      <th>82908</th>\n",
       "      <td>499942</td>\n",
       "      <td>Development</td>\n",
       "      <td>F</td>\n",
       "      <td>40000</td>\n",
       "    </tr>\n",
       "  </tbody>\n",
       "</table>\n",
       "</div>"
      ],
      "text/plain": [
       "       emp_no    dept_name sex  salary\n",
       "82908  499942  Development   F   40000"
      ]
     },
     "execution_count": 8,
     "metadata": {},
     "output_type": "execute_result"
    }
   ],
   "source": [
    "#Evidence in hand, you march into your boss's office and present the visualisation. \n",
    "#With a sly grin, your boss thanks you for your work. On your way out of the office, you hear the words, \n",
    "#\"Search your ID number.\" You look down at your badge to see that your employee ID number is 499942.\n",
    "df.loc[df['emp_no'] == 499942]"
   ]
  },
  {
   "cell_type": "markdown",
   "id": "76a44bbb",
   "metadata": {},
   "source": [
    "## Boss thinks I'm female and would be willing to work for 40k, what a joker ##\n"
   ]
  }
 ],
 "metadata": {
  "kernelspec": {
   "display_name": "Python [conda env:PythonData] *",
   "language": "python",
   "name": "conda-env-PythonData-py"
  },
  "language_info": {
   "codemirror_mode": {
    "name": "ipython",
    "version": 3
   },
   "file_extension": ".py",
   "mimetype": "text/x-python",
   "name": "python",
   "nbconvert_exporter": "python",
   "pygments_lexer": "ipython3",
   "version": "3.7.11"
  }
 },
 "nbformat": 4,
 "nbformat_minor": 5
}
